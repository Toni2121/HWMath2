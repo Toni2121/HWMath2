{
 "cells": [
  {
   "cell_type": "code",
   "execution_count": 3,
   "id": "a8b691ad-7977-4135-a987-0228e3368509",
   "metadata": {},
   "outputs": [],
   "source": [
    "import pandas as pd\n",
    "import numpy as np\n",
    "import matplotlib.pyplot as plt\n",
    "import seaborn as sns\n",
    "from IPython.display import display"
   ]
  },
  {
   "cell_type": "code",
   "execution_count": 4,
   "id": "8c9f90d4-04d3-4d48-ad89-001d551c74a7",
   "metadata": {},
   "outputs": [
    {
     "data": {
      "text/plain": [
       "array([[ 6,  7,  8],\n",
       "       [ 9,  8,  8],\n",
       "       [ 8, 13,  9]])"
      ]
     },
     "execution_count": 4,
     "metadata": {},
     "output_type": "execute_result"
    }
   ],
   "source": [
    "A = np.array([[4, 1, 7],\n",
    "              [2, 8, 3],\n",
    "              [5, 9, 0]])\n",
    "\n",
    "B = np.array([[2, 6, 1],\n",
    "              [7, 0, 5],\n",
    "              [3, 4, 9]])\n",
    "sum_matrix = A + B\n",
    "sum_matrix\n"
   ]
  },
  {
   "cell_type": "code",
   "execution_count": 5,
   "id": "a11a88d2-2414-4d4e-9f6c-8b0f6cb9a945",
   "metadata": {},
   "outputs": [
    {
     "data": {
      "text/plain": [
       "array([[ 7, -2],\n",
       "       [-1,  5],\n",
       "       [ 3,  4]])"
      ]
     },
     "execution_count": 5,
     "metadata": {},
     "output_type": "execute_result"
    }
   ],
   "source": [
    "C = np.array([[8, 2],\n",
    "              [5, 7],\n",
    "              [3, 9]])\n",
    "\n",
    "D = np.array([[1, 4],\n",
    "              [6, 2],\n",
    "              [0, 5]])\n",
    "diff_matrix = C - D\n",
    "diff_matrix\n"
   ]
  },
  {
   "cell_type": "code",
   "execution_count": 6,
   "id": "21c78aae-5152-49e2-9900-83d51d68589a",
   "metadata": {},
   "outputs": [
    {
     "data": {
      "text/plain": [
       "array([[28, 16, 22],\n",
       "       [33, 84, 69],\n",
       "       [47, 41, 56]])"
      ]
     },
     "execution_count": 6,
     "metadata": {},
     "output_type": "execute_result"
    }
   ],
   "source": [
    "E = np.array([[2, 0, 3, 1],\n",
    "              [4, 5, 2, 7],\n",
    "              [1, 3, 6, 2]])\n",
    "\n",
    "F = np.array([[3, 1, 2],\n",
    "              [0, 4, 6],\n",
    "              [7, 2, 5],\n",
    "              [1, 8, 3]])\n",
    "product_matrix = np.dot(E, F)\n",
    "product_matrix\n"
   ]
  },
  {
   "cell_type": "code",
   "execution_count": 7,
   "id": "7826c59d-d2ee-48d9-ba43-483396d3e6e7",
   "metadata": {},
   "outputs": [
    {
     "data": {
      "text/plain": [
       "array([[5, 1, 6, 3],\n",
       "       [2, 7, 0, 8],\n",
       "       [8, 3, 5, 1],\n",
       "       [4, 9, 2, 7]])"
      ]
     },
     "execution_count": 7,
     "metadata": {},
     "output_type": "execute_result"
    }
   ],
   "source": [
    "G = np.array([[5, 2, 8, 4],\n",
    "              [1, 7, 3, 9],\n",
    "              [6, 0, 5, 2],\n",
    "              [3, 8, 1, 7]])\n",
    "transpose_G = G.T\n",
    "transpose_G\n"
   ]
  },
  {
   "cell_type": "code",
   "execution_count": null,
   "id": "b71070d6-4846-4a6c-b4bc-d71170be34c6",
   "metadata": {},
   "outputs": [],
   "source": []
  }
 ],
 "metadata": {
  "kernelspec": {
   "display_name": "Python 3 (ipykernel)",
   "language": "python",
   "name": "python3"
  },
  "language_info": {
   "codemirror_mode": {
    "name": "ipython",
    "version": 3
   },
   "file_extension": ".py",
   "mimetype": "text/x-python",
   "name": "python",
   "nbconvert_exporter": "python",
   "pygments_lexer": "ipython3",
   "version": "3.12.7"
  }
 },
 "nbformat": 4,
 "nbformat_minor": 5
}
